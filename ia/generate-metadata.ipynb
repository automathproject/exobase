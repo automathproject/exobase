{
 "cells": [
  {
   "cell_type": "markdown",
   "metadata": {},
   "source": [
    "# Traitement des exercices LaTeX avec IA\n",
    "\n",
    "Ce notebook utilise le module `latex_analysis.py` pour traiter des exercices LaTeX avec l'API Gemini afin de générer :\n",
    "1. Des métadonnées détaillées (compétences, difficulté, etc.)\n",
    "2. Des résumés synthétiques des exercices\n",
    "\n",
    "Vous pouvez exécuter ces processus séparément ou ensemble."
   ]
  },
  {
   "cell_type": "code",
   "execution_count": 3,
   "metadata": {},
   "outputs": [],
   "source": [
    "# Import du module d'analyse LaTeX\n",
    "from main_analyzer import extract_all"
   ]
  },
  {
   "cell_type": "markdown",
   "metadata": {},
   "source": [
    "## Configuration\n",
    "\n",
    "Définissez les paramètres de traitement ici."
   ]
  },
  {
   "cell_type": "code",
   "execution_count": 5,
   "metadata": {},
   "outputs": [],
   "source": [
    "# Paramètres généraux\n",
    "SOURCE_DIR = \"../src/latex/amscc\"  # Répertoire contenant les fichiers LaTeX\n",
    "OUTPUT_DIR = \"../metadata/amscc-complet\"  # Répertoire unique pour tous les résultats\n",
    "\n",
    "# Paramètres d'exécution\n",
    "MODEL_NAME = \"gemini-2.0-flash\"  # Modèle Gemini à utiliser\n",
    "API_DELAY = 5.0  # Délai entre les appels API (secondes)\n",
    "FORCE_REPROCESS = False  # Retraiter les fichiers déjà analysés\n",
    "DEBUG = False  # Afficher des informations de débogage\n",
    "MAX_FILES = None  # Nombre max de fichiers à traiter (None = tous)"
   ]
  },
  {
   "cell_type": "markdown",
   "metadata": {
    "jp-MarkdownHeadingCollapsed": true
   },
   "source": [
    "## Option 1 : Extraction des métadonnées uniquement\n",
    "\n",
    "Cette option génère uniquement les métadonnées détaillées pour chaque exercice."
   ]
  },
  {
   "cell_type": "code",
   "execution_count": 3,
   "metadata": {},
   "outputs": [],
   "source": [
    "# Pour les métadonnées uniquement\n",
    "from main_analyzer import extract_metadata\n",
    "\n",
    "results_metadata = extract_metadata(\n",
    "    source_dir=SOURCE_DIR,\n",
    "    output_dir=OUTPUT_DIR,\n",
    "    model_name=MODEL_NAME,\n",
    "    max_files=MAX_FILES,\n",
    "    api_delay=API_DELAY,\n",
    "    force_reprocess=FORCE_REPROCESS,\n",
    "    debug=DEBUG\n",
    ")\n",
    "\n"
   ]
  },
  {
   "cell_type": "markdown",
   "metadata": {
    "jp-MarkdownHeadingCollapsed": true
   },
   "source": [
    "## Option 2 : Extraction des résumés uniquement\n",
    "\n",
    "Cette option génère uniquement les résumés synthétiques pour chaque exercice."
   ]
  },
  {
   "cell_type": "code",
   "execution_count": 4,
   "metadata": {},
   "outputs": [],
   "source": [
    "# Pour les résumés uniquement\n",
    "from main_analyzer import extract_resume\n",
    "\n",
    "results_resume = extract_resume(\n",
    "    source_dir=SOURCE_DIR,\n",
    "    output_dir=OUTPUT_DIR,\n",
    "    model_name=MODEL_NAME,\n",
    "    max_files=MAX_FILES,\n",
    "    api_delay=API_DELAY,\n",
    "    force_reprocess=FORCE_REPROCESS,\n",
    "    debug=DEBUG\n",
    ")"
   ]
  },
  {
   "cell_type": "markdown",
   "metadata": {},
   "source": [
    "## Option 3 : Traitement complet (métadonnées + résumés)\n",
    "\n",
    "Cette option génère à la fois les métadonnées et les résumés pour chaque exercice."
   ]
  },
  {
   "cell_type": "code",
   "execution_count": 6,
   "metadata": {},
   "outputs": [
    {
     "name": "stdout",
     "output_type": "stream",
     "text": [
      "=== EXTRACTION DES MÉTADONNÉES ET RÉSUMÉS ===\n",
      "Traitement de 460 fichiers LaTeX...\n",
      "\n",
      "[1/460] Analyse de YBwt.tex...\n",
      "Extraction des métadonnées pour YBwt...\n",
      "Extraction du résumé pour YBwt...\n",
      "Pause de 5.0 secondes...\n",
      "\n",
      "[2/460] Analyse de trhY.tex...\n",
      "Extraction des métadonnées pour trhY...\n",
      "Extraction du résumé pour trhY...\n",
      "Pause de 5.0 secondes...\n"
     ]
    },
    {
     "ename": "KeyboardInterrupt",
     "evalue": "",
     "output_type": "error",
     "traceback": [
      "\u001b[0;31m---------------------------------------------------------------------------\u001b[0m",
      "\u001b[0;31mKeyboardInterrupt\u001b[0m                         Traceback (most recent call last)",
      "Cell \u001b[0;32mIn[6], line 5\u001b[0m\n\u001b[1;32m      2\u001b[0m \u001b[38;5;28;01mfrom\u001b[39;00m \u001b[38;5;21;01mmain_analyzer\u001b[39;00m \u001b[38;5;28;01mimport\u001b[39;00m extract_all\n\u001b[1;32m      4\u001b[0m \u001b[38;5;66;03m# Exécution du processus complet (métadonnées + résumés)\u001b[39;00m\n\u001b[0;32m----> 5\u001b[0m results \u001b[38;5;241m=\u001b[39m extract_all(\n\u001b[1;32m      6\u001b[0m     source_dir\u001b[38;5;241m=\u001b[39mSOURCE_DIR,\n\u001b[1;32m      7\u001b[0m     output_dir\u001b[38;5;241m=\u001b[39mOUTPUT_DIR,\n\u001b[1;32m      8\u001b[0m     model_name\u001b[38;5;241m=\u001b[39mMODEL_NAME,\n\u001b[1;32m      9\u001b[0m     max_files\u001b[38;5;241m=\u001b[39mMAX_FILES,\n\u001b[1;32m     10\u001b[0m     api_delay\u001b[38;5;241m=\u001b[39mAPI_DELAY,\n\u001b[1;32m     11\u001b[0m     force_reprocess\u001b[38;5;241m=\u001b[39mFORCE_REPROCESS,\n\u001b[1;32m     12\u001b[0m     debug\u001b[38;5;241m=\u001b[39mDEBUG\n\u001b[1;32m     13\u001b[0m )\n",
      "File \u001b[0;32m~/Documents/Automath/exobase/ia/main_analyzer.py:358\u001b[0m, in \u001b[0;36mextract_all\u001b[0;34m(source_dir, output_dir, model_name, max_files, api_delay, force_reprocess, debug)\u001b[0m\n\u001b[1;32m    342\u001b[0m \u001b[38;5;250m\u001b[39m\u001b[38;5;124;03m\"\"\"\u001b[39;00m\n\u001b[1;32m    343\u001b[0m \u001b[38;5;124;03mProcess LaTeX files to extract both metadata and resumés.\u001b[39;00m\n\u001b[1;32m    344\u001b[0m \u001b[38;5;124;03m\u001b[39;00m\n\u001b[0;32m   (...)\u001b[0m\n\u001b[1;32m    355\u001b[0m \u001b[38;5;124;03m    Dictionary with combined results\u001b[39;00m\n\u001b[1;32m    356\u001b[0m \u001b[38;5;124;03m\"\"\"\u001b[39;00m\n\u001b[1;32m    357\u001b[0m \u001b[38;5;28mprint\u001b[39m(\u001b[38;5;124m\"\u001b[39m\u001b[38;5;124m=== EXTRACTION DES MÉTADONNÉES ET RÉSUMÉS ===\u001b[39m\u001b[38;5;124m\"\u001b[39m)\n\u001b[0;32m--> 358\u001b[0m \u001b[38;5;28;01mreturn\u001b[39;00m process_latex_files(\n\u001b[1;32m    359\u001b[0m     source_dir\u001b[38;5;241m=\u001b[39msource_dir,\n\u001b[1;32m    360\u001b[0m     output_dir\u001b[38;5;241m=\u001b[39moutput_dir,\n\u001b[1;32m    361\u001b[0m     process_type\u001b[38;5;241m=\u001b[39m\u001b[38;5;124m'\u001b[39m\u001b[38;5;124mboth\u001b[39m\u001b[38;5;124m'\u001b[39m,\n\u001b[1;32m    362\u001b[0m     model_name\u001b[38;5;241m=\u001b[39mmodel_name,\n\u001b[1;32m    363\u001b[0m     max_files\u001b[38;5;241m=\u001b[39mmax_files,\n\u001b[1;32m    364\u001b[0m     api_delay\u001b[38;5;241m=\u001b[39mapi_delay,\n\u001b[1;32m    365\u001b[0m     force_reprocess\u001b[38;5;241m=\u001b[39mforce_reprocess,\n\u001b[1;32m    366\u001b[0m     debug\u001b[38;5;241m=\u001b[39mdebug\n\u001b[1;32m    367\u001b[0m )\n",
      "File \u001b[0;32m~/Documents/Automath/exobase/ia/main_analyzer.py:281\u001b[0m, in \u001b[0;36mprocess_latex_files\u001b[0;34m(source_dir, output_dir, process_type, model_name, max_files, api_delay, force_reprocess, debug)\u001b[0m\n\u001b[1;32m    279\u001b[0m     \u001b[38;5;28;01mif\u001b[39;00m i \u001b[38;5;241m<\u001b[39m \u001b[38;5;28mlen\u001b[39m(files) \u001b[38;5;241m-\u001b[39m \u001b[38;5;241m1\u001b[39m \u001b[38;5;129;01mand\u001b[39;00m result \u001b[38;5;129;01mis\u001b[39;00m \u001b[38;5;129;01mnot\u001b[39;00m \u001b[38;5;28;01mNone\u001b[39;00m \u001b[38;5;129;01mand\u001b[39;00m \u001b[38;5;124m\"\u001b[39m\u001b[38;5;124mstatus\u001b[39m\u001b[38;5;124m\"\u001b[39m \u001b[38;5;129;01mnot\u001b[39;00m \u001b[38;5;129;01min\u001b[39;00m result:\n\u001b[1;32m    280\u001b[0m         \u001b[38;5;28mprint\u001b[39m(\u001b[38;5;124mf\u001b[39m\u001b[38;5;124m\"\u001b[39m\u001b[38;5;124mPause de \u001b[39m\u001b[38;5;132;01m{\u001b[39;00mapi_delay\u001b[38;5;132;01m}\u001b[39;00m\u001b[38;5;124m secondes...\u001b[39m\u001b[38;5;124m\"\u001b[39m)\n\u001b[0;32m--> 281\u001b[0m         time\u001b[38;5;241m.\u001b[39msleep(api_delay)\n\u001b[1;32m    283\u001b[0m \u001b[38;5;66;03m# Write all results to a single file\u001b[39;00m\n\u001b[1;32m    284\u001b[0m \u001b[38;5;28;01mwith\u001b[39;00m \u001b[38;5;28mopen\u001b[39m(os\u001b[38;5;241m.\u001b[39mpath\u001b[38;5;241m.\u001b[39mjoin(output_dir, \u001b[38;5;124m'\u001b[39m\u001b[38;5;124mall_results.json\u001b[39m\u001b[38;5;124m'\u001b[39m), \u001b[38;5;124m'\u001b[39m\u001b[38;5;124mw\u001b[39m\u001b[38;5;124m'\u001b[39m, encoding\u001b[38;5;241m=\u001b[39m\u001b[38;5;124m'\u001b[39m\u001b[38;5;124mutf-8\u001b[39m\u001b[38;5;124m'\u001b[39m) \u001b[38;5;28;01mas\u001b[39;00m f:\n",
      "\u001b[0;31mKeyboardInterrupt\u001b[0m: "
     ]
    }
   ],
   "source": [
    "# Import du nouveau module\n",
    "from main_analyzer import extract_all\n",
    "\n",
    "# Exécution du processus complet (métadonnées + résumés)\n",
    "results = extract_all(\n",
    "    source_dir=SOURCE_DIR,\n",
    "    output_dir=OUTPUT_DIR,\n",
    "    model_name=MODEL_NAME,\n",
    "    max_files=MAX_FILES,\n",
    "    api_delay=API_DELAY,\n",
    "    force_reprocess=FORCE_REPROCESS,\n",
    "    debug=DEBUG\n",
    ")"
   ]
  },
  {
   "cell_type": "markdown",
   "metadata": {},
   "source": [
    "## Option 4 : Fusion des résultats existants\n",
    "\n",
    "Cette option fusionne les métadonnées et résumés déjà générés dans un seul ensemble de fichiers."
   ]
  },
  {
   "cell_type": "code",
   "execution_count": 6,
   "metadata": {},
   "outputs": [],
   "source": [
    "# Décommentez pour exécuter\n",
    "# merged_results = merge_results(\n",
    "#     metadata_dir=METADATA_DIR,\n",
    "#     resume_dir=RESUME_DIR,\n",
    "#     output_dir=MERGED_DIR\n",
    "# )"
   ]
  }
 ],
 "metadata": {
  "kernelspec": {
   "display_name": "Python (mon_env_ia)",
   "language": "python",
   "name": "mon_env_ia"
  },
  "language_info": {
   "codemirror_mode": {
    "name": "ipython",
    "version": 3
   },
   "file_extension": ".py",
   "mimetype": "text/x-python",
   "name": "python",
   "nbconvert_exporter": "python",
   "pygments_lexer": "ipython3",
   "version": "3.11.11"
  }
 },
 "nbformat": 4,
 "nbformat_minor": 4
}
