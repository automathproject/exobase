{
 "cells": [
  {
   "cell_type": "code",
   "execution_count": 4,
   "id": "7b89a880-f6f5-4a1c-a817-ab0507bc22cc",
   "metadata": {},
   "outputs": [
    {
     "name": "stdout",
     "output_type": "stream",
     "text": [
      "Fusion terminée. 460 fichiers ont été créés dans ../metadata/amscc-complet/exercises\n"
     ]
    }
   ],
   "source": [
    "import os\n",
    "import json\n",
    "import glob\n",
    "\n",
    "# Définir les chemins des répertoires\n",
    "repertoire1 = \"../metadata/amscc-resume\"\n",
    "repertoire2 = \"../metadata/amscc-competences\"\n",
    "repertoire_sortie = \"../metadata/amscc-complet/exercises\"\n",
    "nom_fichier2 = \"tags-competences.json\"\n",
    "\n",
    "# Créer le répertoire de sortie s'il n'existe pas\n",
    "if not os.path.exists(repertoire_sortie):\n",
    "    os.makedirs(repertoire_sortie)\n",
    "\n",
    "# Charger le fichier JSON du deuxième répertoire\n",
    "with open(os.path.join(repertoire2, nom_fichier2), \"r\", encoding=\"utf-8\") as f2:\n",
    "    donnees2 = json.load(f2)\n",
    "\n",
    "# Obtenir la liste des fichiers JSON dans le premier répertoire\n",
    "fichiers_json = glob.glob(os.path.join(repertoire1, \"*.json\"))\n",
    "\n",
    "# Ensemble pour suivre tous les UUIDs traités\n",
    "tous_uuids = set()\n",
    "\n",
    "# Traiter chaque fichier du premier répertoire\n",
    "for chemin_fichier in fichiers_json:\n",
    "    # Extraire l'UUID du nom de fichier\n",
    "    nom_fichier = os.path.basename(chemin_fichier)\n",
    "    uuid = os.path.splitext(nom_fichier)[0]\n",
    "    \n",
    "    tous_uuids.add(uuid)\n",
    "    \n",
    "    # Charger les données du fichier\n",
    "    with open(chemin_fichier, \"r\", encoding=\"utf-8\") as f1:\n",
    "        donnees1 = json.load(f1)\n",
    "    \n",
    "    # Initialiser le dictionnaire pour les données fusionnées\n",
    "    donnees_fusionnees = dict(donnees1)  # Copier toutes les données du premier fichier\n",
    "    \n",
    "    # Ajouter les données du deuxième fichier si l'UUID existe\n",
    "    if uuid in donnees2:\n",
    "        for cle, valeur in donnees2[uuid].items():\n",
    "            donnees_fusionnees[cle] = valeur\n",
    "    \n",
    "    # Créer le fichier de sortie pour cet UUID\n",
    "    chemin_sortie = os.path.join(repertoire_sortie, f\"{uuid}.json\")\n",
    "    \n",
    "    # Écrire les données fusionnées dans le fichier\n",
    "    with open(chemin_sortie, \"w\", encoding=\"utf-8\") as f_sortie:\n",
    "        json.dump(donnees_fusionnees, f_sortie, ensure_ascii=False, indent=2)\n",
    "\n",
    "# Traiter les UUIDs qui n'existent que dans le deuxième fichier\n",
    "for uuid in donnees2:\n",
    "    if uuid not in tous_uuids:\n",
    "        tous_uuids.add(uuid)\n",
    "        \n",
    "        # Créer le fichier de sortie pour cet UUID\n",
    "        chemin_sortie = os.path.join(repertoire_sortie, f\"{uuid}.json\")\n",
    "        \n",
    "        # Écrire les données du deuxième fichier\n",
    "        with open(chemin_sortie, \"w\", encoding=\"utf-8\") as f_sortie:\n",
    "            json.dump(donnees2[uuid], f_sortie, ensure_ascii=False, indent=2)\n",
    "\n",
    "print(f\"Fusion terminée. {len(tous_uuids)} fichiers ont été créés dans {repertoire_sortie}\")"
   ]
  },
  {
   "cell_type": "code",
   "execution_count": null,
   "id": "9f22df1a-3cab-41ff-a9d1-9e7cb24e5c51",
   "metadata": {},
   "outputs": [],
   "source": []
  }
 ],
 "metadata": {
  "kernelspec": {
   "display_name": "Python (mon_env_ia)",
   "language": "python",
   "name": "mon_env_ia"
  },
  "language_info": {
   "codemirror_mode": {
    "name": "ipython",
    "version": 3
   },
   "file_extension": ".py",
   "mimetype": "text/x-python",
   "name": "python",
   "nbconvert_exporter": "python",
   "pygments_lexer": "ipython3",
   "version": "3.11.11"
  }
 },
 "nbformat": 4,
 "nbformat_minor": 5
}
