{
 "cells": [
  {
   "cell_type": "markdown",
   "metadata": {},
   "source": [
    "# Traitement des exercices LaTeX avec IA\n",
    "\n",
    "Ce notebook utilise le module `latex_analysis.py` pour traiter des exercices LaTeX avec l'API Gemini afin de générer :\n",
    "1. Des métadonnées détaillées (compétences, difficulté, etc.)\n",
    "2. Des résumés synthétiques des exercices\n",
    "\n",
    "Vous pouvez exécuter ces processus séparément ou ensemble."
   ]
  },
  {
   "cell_type": "code",
   "execution_count": 1,
   "metadata": {},
   "outputs": [],
   "source": [
    "# Import du module d'analyse LaTeX\n",
    "from latex_analysis import extract_metadata, extract_resume, process_all, merge_results"
   ]
  },
  {
   "cell_type": "markdown",
   "metadata": {},
   "source": [
    "## Configuration\n",
    "\n",
    "Définissez les paramètres de traitement ici."
   ]
  },
  {
   "cell_type": "code",
   "execution_count": 2,
   "metadata": {},
   "outputs": [],
   "source": [
    "# Paramètres généraux\n",
    "SOURCE_DIR = \"../src/latex/amscc\"             # Répertoire contenant les fichiers LaTeX\n",
    "METADATA_DIR = \"../metadata/amscc-v2\"         # Répertoire pour les métadonnées\n",
    "RESUME_DIR = \"../metadata/amscc-resume\"       # Répertoire pour les résumés\n",
    "MERGED_DIR = \"../metadata/amscc-complet\"      # Répertoire pour la fusion des deux\n",
    "\n",
    "# Paramètres d'exécution\n",
    "MODEL_NAME = \"gemini-2.0-flash\"              # Modèle Gemini à utiliser\n",
    "API_DELAY = 5.0                              # Délai entre les appels API (secondes)\n",
    "FORCE_REPROCESS = False                      # Retraiter les fichiers déjà analysés\n",
    "DEBUG = False                                # Afficher des informations de débogage\n",
    "MAX_FILES = None                             # Nombre max de fichiers à traiter (None = tous)"
   ]
  },
  {
   "cell_type": "markdown",
   "metadata": {},
   "source": [
    "## Option 1 : Extraction des métadonnées uniquement\n",
    "\n",
    "Cette option génère uniquement les métadonnées détaillées pour chaque exercice."
   ]
  },
  {
   "cell_type": "code",
   "execution_count": 3,
   "metadata": {},
   "outputs": [],
   "source": [
    "# Décommentez pour exécuter\n",
    "# metadata_results = extract_metadata(\n",
    "#     source_dir=SOURCE_DIR,\n",
    "#     output_dir=METADATA_DIR,\n",
    "#     model_name=MODEL_NAME,\n",
    "#     max_files=MAX_FILES,\n",
    "#     api_delay=API_DELAY,\n",
    "#     force_reprocess=FORCE_REPROCESS,\n",
    "#     debug=DEBUG\n",
    "# )"
   ]
  },
  {
   "cell_type": "markdown",
   "metadata": {},
   "source": [
    "## Option 2 : Extraction des résumés uniquement\n",
    "\n",
    "Cette option génère uniquement les résumés synthétiques pour chaque exercice."
   ]
  },
  {
   "cell_type": "code",
   "execution_count": 4,
   "metadata": {},
   "outputs": [],
   "source": [
    "# Décommentez pour exécuter\n",
    "# resume_results = extract_resume(\n",
    "#     source_dir=SOURCE_DIR,\n",
    "#     output_dir=RESUME_DIR,\n",
    "#     model_name=MODEL_NAME,\n",
    "#     max_files=MAX_FILES,\n",
    "#     api_delay=API_DELAY,\n",
    "#     force_reprocess=FORCE_REPROCESS,\n",
    "#     debug=DEBUG\n",
    "# )"
   ]
  },
  {
   "cell_type": "markdown",
   "metadata": {},
   "source": [
    "## Option 3 : Traitement complet (métadonnées + résumés)\n",
    "\n",
    "Cette option génère à la fois les métadonnées et les résumés pour chaque exercice."
   ]
  },
  {
   "cell_type": "code",
   "execution_count": 5,
   "metadata": {},
   "outputs": [],
   "source": [
    "# Décommentez pour exécuter\n",
    "# all_results = process_all(\n",
    "#     source_dir=SOURCE_DIR,\n",
    "#     metadata_dir=METADATA_DIR,\n",
    "#     resume_dir=RESUME_DIR,\n",
    "#     model_name=MODEL_NAME,\n",
    "#     max_files=MAX_FILES,\n",
    "#     api_delay=API_DELAY,\n",
    "#     force_reprocess=FORCE_REPROCESS,\n",
    "#     debug=DEBUG\n",
    "# )"
   ]
  },
  {
   "cell_type": "markdown",
   "metadata": {},
   "source": [
    "## Option 4 : Fusion des résultats existants\n",
    "\n",
    "Cette option fusionne les métadonnées et résumés déjà générés dans un seul ensemble de fichiers."
   ]
  },
  {
   "cell_type": "code",
   "execution_count": 6,
   "metadata": {},
   "outputs": [],
   "source": [
    "# Décommentez pour exécuter\n",
    "# merged_results = merge_results(\n",
    "#     metadata_dir=METADATA_DIR,\n",
    "#     resume_dir=RESUME_DIR,\n",
    "#     output_dir=MERGED_DIR\n",
    "# )"
   ]
  },
  {
   "cell_type": "markdown",
   "metadata": {},
   "source": [
    "## Test avec un nombre limité de fichiers\n",
    "\n",
    "Cette section permet de tester le traitement sur un petit nombre de fichiers."
   ]
  },
  {
   "cell_type": "code",
   "execution_count": 7,
   "metadata": {},
   "outputs": [],
   "source": [
    "# Décommentez pour exécuter un test limité\n",
    "# test_results = process_all(\n",
    "#     source_dir=SOURCE_DIR,\n",
    "#     metadata_dir=METADATA_DIR + \"_test\",\n",
    "#     resume_dir=RESUME_DIR + \"_test\",\n",
    "#     model_name=MODEL_NAME,\n",
    "#     max_files=5,                      # Test avec seulement 5 fichiers\n",
    "#     api_delay=API_DELAY,\n",
    "#     force_reprocess=True,             # Forcer le retraitement pour le test\n",
    "#     debug=True                        # Activer le débogage pour le test\n",
    "# )\n",
    "#\n",
    "# # Fusion des résultats de test\n",
    "# test_merged = merge_results(\n",
    "#     metadata_dir=METADATA_DIR + \"_test\",\n",
    "#     resume_dir=RESUME_DIR + \"_test\",\n",
    "#     output_dir=MERGED_DIR + \"_test\"\n",
    "# )"
   ]
  },
  {
   "cell_type": "markdown",
   "metadata": {},
   "source": [
    "## Exemple d'utilisation concrète\n",
    "\n",
    "Voici un exemple typique d'utilisation pour traiter tous les exercices et générer des fichiers fusionnés."
   ]
  },
  {
   "cell_type": "code",
   "execution_count": 8,
   "metadata": {},
   "outputs": [],
   "source": [
    "# Exemple de flux de travail complet\n",
    "\n",
    "# 1. Traiter tous les exercices pour générer métadonnées et résumés\n",
    "# ----------------------------------------------------------------\n",
    "all_results = process_all(\n",
    "    source_dir=\"../src/latex/amscc\",\n",
    "    metadata_dir=\"../metadata/amscc-v2\",\n",
    "    resume_dir=\"../metadata/amscc-resume\",\n",
    "    model_name=\"gemini-2.0-flash\",\n",
    "    api_delay=5.0,\n",
    "    force_reprocess=False,  # Ne retraite pas les fichiers déjà générés\n",
    "    debug=False\n",
    ")\n",
    "\n",
    "# 2. Fusionner les résultats en un seul ensemble de fichiers\n",
    "# ---------------------------------------------------------\n",
    "merged_results = merge_results(\n",
    "    metadata_dir=\"../metadata/amscc-v2\",\n",
    "    resume_dir=\"../metadata/amscc-resume\",\n",
    "    output_dir=\"../metadata/amscc-complet\"\n",
    ")"
   ]
  }
 ],
 "metadata": {
  "kernelspec": {
   "display_name": "Python (mon_env_ia)",
   "language": "python",
   "name": "mon_env_ia"
  },
  "language_info": {
   "codemirror_mode": {
    "name": "ipython",
    "version": 3
   },
   "file_extension": ".py",
   "mimetype": "text/x-python",
   "name": "python",
   "nbconvert_exporter": "python",
   "pygments_lexer": "ipython3",
   "version": "3.11.11"
  }
 },
 "nbformat": 4,
 "nbformat_minor": 4
}
